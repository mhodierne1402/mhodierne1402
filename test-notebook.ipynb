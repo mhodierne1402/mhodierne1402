{
 "cells": [
  {
   "cell_type": "code",
   "execution_count": 1,
   "id": "c6098be8",
   "metadata": {
    "_cell_guid": "b1076dfc-b9ad-4769-8c92-a6c4dae69d19",
    "_uuid": "8f2839f25d086af736a60e9eeb907d3b93b6e0e5",
    "execution": {
     "iopub.execute_input": "2023-12-29T17:49:39.102240Z",
     "iopub.status.busy": "2023-12-29T17:49:39.101854Z",
     "iopub.status.idle": "2023-12-29T17:49:39.409651Z",
     "shell.execute_reply": "2023-12-29T17:49:39.408619Z"
    },
    "papermill": {
     "duration": 0.313711,
     "end_time": "2023-12-29T17:49:39.411826",
     "exception": false,
     "start_time": "2023-12-29T17:49:39.098115",
     "status": "completed"
    },
    "tags": []
   },
   "outputs": [],
   "source": [
    "# This Python 3 environment comes with many helpful analytics libraries installed\n",
    "# It is defined by the kaggle/python Docker image: https://github.com/kaggle/docker-python\n",
    "# For example, here's several helpful packages to load\n",
    "\n",
    "import numpy as np # linear algebra\n",
    "import pandas as pd # data processing, CSV file I/O (e.g. pd.read_csv)\n",
    "\n",
    "# Input data files are available in the read-only \"../input/\" directory\n",
    "# For example, running this (by clicking run or pressing Shift+Enter) will list all files under the input directory\n",
    "\n",
    "import os\n",
    "for dirname, _, filenames in os.walk('/kaggle/input'):\n",
    "    for filename in filenames:\n",
    "        print(os.path.join(dirname, filename))\n",
    "\n",
    "# You can write up to 20GB to the current directory (/kaggle/working/) that gets preserved as output when you create a version using \"Save & Run All\" \n",
    "# You can also write temporary files to /kaggle/temp/, but they won't be saved outside of the current session"
   ]
  },
  {
   "cell_type": "code",
   "execution_count": 2,
   "id": "d4cbc06b",
   "metadata": {
    "execution": {
     "iopub.execute_input": "2023-12-29T17:49:39.417228Z",
     "iopub.status.busy": "2023-12-29T17:49:39.416652Z",
     "iopub.status.idle": "2023-12-29T17:49:39.422765Z",
     "shell.execute_reply": "2023-12-29T17:49:39.421663Z"
    },
    "papermill": {
     "duration": 0.010803,
     "end_time": "2023-12-29T17:49:39.424707",
     "exception": false,
     "start_time": "2023-12-29T17:49:39.413904",
     "status": "completed"
    },
    "tags": []
   },
   "outputs": [
    {
     "name": "stdout",
     "output_type": "stream",
     "text": [
      "hello world\n"
     ]
    }
   ],
   "source": [
    "print(\"hello world\")"
   ]
  },
  {
   "cell_type": "code",
   "execution_count": 3,
   "id": "97c83bab",
   "metadata": {
    "execution": {
     "iopub.execute_input": "2023-12-29T17:49:39.429392Z",
     "iopub.status.busy": "2023-12-29T17:49:39.429098Z",
     "iopub.status.idle": "2023-12-29T17:49:39.436857Z",
     "shell.execute_reply": "2023-12-29T17:49:39.435595Z"
    },
    "papermill": {
     "duration": 0.012276,
     "end_time": "2023-12-29T17:49:39.438861",
     "exception": false,
     "start_time": "2023-12-29T17:49:39.426585",
     "status": "completed"
    },
    "tags": []
   },
   "outputs": [
    {
     "name": "stdout",
     "output_type": "stream",
     "text": [
      "[10  2  4  9]\n"
     ]
    }
   ],
   "source": [
    "print(np.array((10, 2, 4, 9)))"
   ]
  },
  {
   "cell_type": "markdown",
   "id": "09758c06",
   "metadata": {
    "papermill": {
     "duration": 0.001596,
     "end_time": "2023-12-29T17:49:39.442457",
     "exception": false,
     "start_time": "2023-12-29T17:49:39.440861",
     "status": "completed"
    },
    "tags": []
   },
   "source": [
    "Just testing this out in Kaggle and how it integrates with GitHub."
   ]
  }
 ],
 "metadata": {
  "kaggle": {
   "accelerator": "none",
   "dataSources": [],
   "dockerImageVersionId": 30626,
   "isGpuEnabled": false,
   "isInternetEnabled": true,
   "language": "python",
   "sourceType": "notebook"
  },
  "kernelspec": {
   "display_name": "Python 3",
   "language": "python",
   "name": "python3"
  },
  "language_info": {
   "codemirror_mode": {
    "name": "ipython",
    "version": 3
   },
   "file_extension": ".py",
   "mimetype": "text/x-python",
   "name": "python",
   "nbconvert_exporter": "python",
   "pygments_lexer": "ipython3",
   "version": "3.10.12"
  },
  "papermill": {
   "default_parameters": {},
   "duration": 3.192335,
   "end_time": "2023-12-29T17:49:39.762431",
   "environment_variables": {},
   "exception": null,
   "input_path": "__notebook__.ipynb",
   "output_path": "__notebook__.ipynb",
   "parameters": {},
   "start_time": "2023-12-29T17:49:36.570096",
   "version": "2.4.0"
  }
 },
 "nbformat": 4,
 "nbformat_minor": 5
}
